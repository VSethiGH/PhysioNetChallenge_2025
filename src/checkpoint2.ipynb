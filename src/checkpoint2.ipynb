{
  "nbformat": 4,
  "nbformat_minor": 0,
  "metadata": {
    "colab": {
      "provenance": []
    },
    "kernelspec": {
      "name": "python3",
      "display_name": "Python 3"
    },
    "language_info": {
      "name": "python"
    }
  },
  "cells": [
    {
      "cell_type": "markdown",
      "source": [
        "hfd data wrangling"
      ],
      "metadata": {
        "id": "v2ODoLGZHLHh"
      }
    },
    {
      "cell_type": "code",
      "execution_count": 1,
      "metadata": {
        "colab": {
          "base_uri": "https://localhost:8080/"
        },
        "id": "SbHC6RoHybwL",
        "outputId": "83243d6a-47d0-48cb-e956-7b24b13db7f8"
      },
      "outputs": [
        {
          "output_type": "stream",
          "name": "stdout",
          "text": [
            "Requirement already satisfied: h5py in /usr/local/lib/python3.11/dist-packages (3.13.0)\n",
            "Requirement already satisfied: numpy>=1.19.3 in /usr/local/lib/python3.11/dist-packages (from h5py) (2.0.2)\n"
          ]
        }
      ],
      "source": [
        "!pip install h5py"
      ]
    },
    {
      "cell_type": "markdown",
      "source": [
        "john imports"
      ],
      "metadata": {
        "id": "iM4RmbUdHOOd"
      }
    },
    {
      "cell_type": "code",
      "source": [
        "import pandas as pd\n",
        "import matplotlib.pyplot as plt\n",
        "import matplotlib.patches as patches\n",
        "from matplotlib.gridspec import GridSpec\n",
        "import numpy as np\n",
        "import math\n",
        "import h5py\n",
        "import random\n",
        "from scipy.signal import find_peaks, peak_widths\n",
        "from pandas.plotting import scatter_matrix\n",
        "import seaborn as sns\n",
        "from sklearn.model_selection import train_test_split, cross_val_score, GridSearchCV\n",
        "from sklearn.ensemble import RandomForestClassifier\n",
        "from sklearn.preprocessing import StandardScaler\n",
        "from sklearn.metrics import roc_curve, roc_auc_score, classification_report, confusion_matrix,  ConfusionMatrixDisplay, RocCurveDisplay, PrecisionRecallDisplay\n",
        "from imblearn.ensemble import BalancedRandomForestClassifier\n",
        "from imblearn.over_sampling import SMOTE\n",
        "from sklearn.inspection import permutation_importance"
      ],
      "metadata": {
        "id": "cG2PaWkgyihV"
      },
      "execution_count": 67,
      "outputs": []
    },
    {
      "cell_type": "markdown",
      "source": [
        "john google drive (data)"
      ],
      "metadata": {
        "id": "ZdZKtRgHHPTc"
      }
    },
    {
      "cell_type": "code",
      "source": [
        "# mount the google drive - this is necessary to access supporting resources\n",
        "from google.colab import drive\n",
        "drive.mount(\"/content/drive\")"
      ],
      "metadata": {
        "colab": {
          "base_uri": "https://localhost:8080/"
        },
        "id": "3yg6CZfQyk99",
        "outputId": "5e922b26-7145-402e-b9b1-56de3d5f822d"
      },
      "execution_count": 3,
      "outputs": [
        {
          "output_type": "stream",
          "name": "stdout",
          "text": [
            "Drive already mounted at /content/drive; to attempt to forcibly remount, call drive.mount(\"/content/drive\", force_remount=True).\n"
          ]
        }
      ]
    },
    {
      "cell_type": "markdown",
      "source": [
        "john standardize (so those samples where it goes like _/- get flatted to ---)"
      ],
      "metadata": {
        "id": "zqePUzqBHSFg"
      }
    },
    {
      "cell_type": "code",
      "source": [
        "def standardize_wave(signal):\n",
        "    signal = np.asarray(signal)\n",
        "\n",
        "    # If signal is too short to compute differences, return empty\n",
        "    if len(signal) < 2:\n",
        "        return np.array([])\n",
        "\n",
        "    # Compute the discrete derivative\n",
        "    diff_signal = np.diff(signal)\n",
        "\n",
        "    # Z-score the derivative: (x - mean) / std\n",
        "    mean_diff = np.mean(diff_signal)\n",
        "    std_diff = np.std(diff_signal)\n",
        "\n",
        "    # To avoid division by zero if the std is 0, handle gracefully:\n",
        "    if std_diff == 0:\n",
        "        # This would mean the signal differences are all the same (or all zero)\n",
        "        # so we can just return a zero array of the same shape\n",
        "        return np.zeros_like(diff_signal)\n",
        "\n",
        "    standardized_diff = (diff_signal - mean_diff) / std_diff\n",
        "\n",
        "    return standardized_diff"
      ],
      "metadata": {
        "id": "1zBbOCiuy3WZ"
      },
      "execution_count": 4,
      "outputs": []
    },
    {
      "cell_type": "markdown",
      "source": [
        "reads in waveforms to arrays in dataframe, standardizes them"
      ],
      "metadata": {
        "id": "XFnp6BBbHZPJ"
      }
    },
    {
      "cell_type": "code",
      "source": [
        "labels_df = pd.read_csv(\"/content/drive/MyDrive/Colab Notebooks/CPSC-4300/data/code15_chagas_labels.csv\")\n",
        "\n",
        "records = []\n",
        "\n",
        "# Define the lead names in the order stored in the HDF5 file.\n",
        "lead_names = ['DI', 'DII', 'DIII', 'AVR', 'AVL', 'AVF',\n",
        "              'V1', 'V2', 'V3', 'V4', 'V5', 'V6']\n",
        "\n",
        "# Open the HDF5 file.\n",
        "with h5py.File(\"/content/drive/MyDrive/Colab Notebooks/CPSC-4300/data/exams_part0.hdf5\", \"r\") as f:\n",
        "    # Load the exam ids (assumed small enough to load into memory)\n",
        "    exam_ids_hdf5 = f['exam_id'][:]  # shape: (N,)\n",
        "    # Build a mapping from exam_id (converted to string) to its index.\n",
        "    exam_id_to_index = {str(eid): idx for idx, eid in enumerate(exam_ids_hdf5)}\n",
        "\n",
        "    # Access the tracings dataset without converting the whole thing to a NumPy array.\n",
        "    tracings = f['tracings']  # shape: (N, 4096, 12)\n",
        "\n",
        "    # Process each exam_id from the CSV.\n",
        "    for _, row in labels_df.iterrows():\n",
        "        exam_id = str(row['exam_id'])\n",
        "        chagas_val = row['chagas']\n",
        "\n",
        "        # Ensure the exam_id exists in the HDF5 file.\n",
        "        if exam_id in exam_id_to_index:\n",
        "            index = exam_id_to_index[exam_id]\n",
        "            # Read only the required chunk for this exam_id.\n",
        "            ecg_data = tracings[index, :, :]  # shape: (4096, 12)\n",
        "\n",
        "            # Create a record for the DataFrame.\n",
        "            record = {\"exam_id\": exam_id, \"chagas\": chagas_val}\n",
        "            # For each lead, extract the corresponding signal and trim leading/trailing zeros.\n",
        "            for j, lead in enumerate(lead_names):\n",
        "                signal = ecg_data[:, j]\n",
        "                # Find indices of non-zero elements.\n",
        "                nonzero_indices = np.nonzero(signal)[0]\n",
        "                if nonzero_indices.size > 0:\n",
        "                    start = nonzero_indices[0]\n",
        "                    end = nonzero_indices[-1] + 1  # +1 to include the last non-zero element.\n",
        "                    trimmed_signal = signal[start:end]\n",
        "                else:\n",
        "                    # If the signal is all zeros, leave it unchanged.\n",
        "                    trimmed_signal = signal\n",
        "                record[lead] = trimmed_signal\n",
        "\n",
        "            records.append(record)\n",
        "\n",
        "# Construct a pandas DataFrame from the collected records.\n",
        "df = pd.DataFrame(records)\n",
        "\n",
        "# --- Standardize each ECG signal array for each lead ---\n",
        "for lead in lead_names:\n",
        "  df[lead] = df[lead].apply(lambda signal: standardize_wave(signal))\n",
        "\n",
        "# Example: print the first row to see the standardized arrays.\n",
        "# print(df.head())"
      ],
      "metadata": {
        "id": "O_OEb2fSy8eg"
      },
      "execution_count": 5,
      "outputs": []
    },
    {
      "cell_type": "markdown",
      "source": [
        "average and standard deviations of both qrs distance approximation (i tried using neurokit2's ecg delineate to get it but it wasn't working as was really slow) and peak-to-peak distance"
      ],
      "metadata": {
        "id": "uOGVrDhnHc2p"
      }
    },
    {
      "cell_type": "code",
      "source": [
        "def average_qrs_distance(ecg, relative_height=0.3):\n",
        "    ecg = np.asarray(ecg)\n",
        "\n",
        "    # Find peaks. You can customize the parameters (like prominence or height) if needed.\n",
        "    peaks, _ = find_peaks(ecg, height=2)\n",
        "\n",
        "    if len(peaks) == 0:\n",
        "        return np.nan\n",
        "\n",
        "    # Compute widths of the detected peaks at the specified relative height.\n",
        "    widths_results = peak_widths(ecg, peaks, rel_height=relative_height)\n",
        "    widths = widths_results[0]  # the first element contains the widths\n",
        "\n",
        "    return np.mean(widths)\n",
        "\n",
        "def std_qrs_distance(ecg, relative_height=0.3):\n",
        "    ecg = np.asarray(ecg)\n",
        "\n",
        "    # Find peaks. You can customize the parameters (like prominence or height) if needed.\n",
        "    peaks, _ = find_peaks(ecg, height=2)\n",
        "\n",
        "    if len(peaks) == 0:\n",
        "        return np.nan\n",
        "\n",
        "    # Compute widths of the detected peaks at the specified relative height.\n",
        "    widths_results = peak_widths(ecg, peaks, rel_height=relative_height)\n",
        "    widths = widths_results[0]  # the first element contains the widths\n",
        "\n",
        "    return np.std(widths)\n",
        "\n",
        "def avg_peak_to_peak(signal, height=2, distance=40):\n",
        "    # Detect peaks using the specified parameters.\n",
        "    peak_indices, _ = find_peaks(signal, height=height, distance=distance)\n",
        "\n",
        "    # If fewer than two peaks are found, return NaN.\n",
        "    if len(peak_indices) < 2:\n",
        "        return np.nan\n",
        "\n",
        "    # Calculate the distances between successive peaks.\n",
        "    peak_to_peak_distances = np.diff(peak_indices)\n",
        "\n",
        "    # Return the average of these distances.\n",
        "    return np.mean(peak_to_peak_distances)\n",
        "\n",
        "def std_peak_to_peak(signal, height=2, distance=40):\n",
        "    # Detect peaks using the specified parameters.\n",
        "    peak_indices, _ = find_peaks(signal, height=height, distance=distance)\n",
        "\n",
        "    # If fewer than two peaks are found, return NaN.\n",
        "    if len(peak_indices) < 2:\n",
        "        return np.nan\n",
        "\n",
        "    # Calculate the distances between successive peaks.\n",
        "    peak_to_peak_distances = np.diff(peak_indices)\n",
        "\n",
        "    # Return the average of these distances.\n",
        "    return np.std(peak_to_peak_distances)\n",
        "\n",
        "def avg_fft_angles(signal):\n",
        "    # Assume 'signal' is your input array\n",
        "    fft_result = np.fft.fft(signal)\n",
        "\n",
        "    # Compute phases\n",
        "    phases = np.angle(fft_result)\n",
        "\n",
        "    if len(phases) < 2:\n",
        "      return np.nan\n",
        "\n",
        "    return np.mean(phases)\n",
        "\n",
        "def std_fft_angles(signal):\n",
        "    # Assume 'signal' is your input array\n",
        "    fft_result = np.fft.fft(signal)\n",
        "\n",
        "    # Compute phases\n",
        "    phases = np.angle(fft_result)\n",
        "\n",
        "    if len(phases) < 2:\n",
        "      return np.nan\n",
        "\n",
        "    return np.std(phases)\n",
        "\n",
        "def avg_fft_magnitudes(signal):\n",
        "    # Assume 'signal' is your input array\n",
        "    fft_result = np.fft.fft(signal)\n",
        "\n",
        "    # Compute magnitudes\n",
        "    magnitudes = np.abs(fft_result)\n",
        "\n",
        "    if len(magnitudes) < 2:\n",
        "      return np.nan\n",
        "\n",
        "    return np.mean(magnitudes)\n",
        "\n",
        "def std_fft_magnitudes(signal):\n",
        "    # Assume 'signal' is your input array\n",
        "    fft_result = np.fft.fft(signal)\n",
        "\n",
        "    # Compute magnitudes\n",
        "    magnitudes = np.abs(fft_result)\n",
        "\n",
        "    if len(magnitudes) < 2:\n",
        "      return np.nan\n",
        "\n",
        "    return np.std(magnitudes)"
      ],
      "metadata": {
        "id": "X_BxN_QH2VIq"
      },
      "execution_count": 6,
      "outputs": []
    },
    {
      "cell_type": "markdown",
      "source": [
        "these next few are all in separate cells so you can add a new feature without rerunning everything"
      ],
      "metadata": {
        "id": "Of-lsgIUHloi"
      }
    },
    {
      "cell_type": "markdown",
      "source": [
        "avg qrs"
      ],
      "metadata": {
        "id": "jxLDiOUpHr_e"
      }
    },
    {
      "cell_type": "code",
      "source": [
        "new_columns = {}\n",
        "for lead in lead_names:\n",
        "    new_columns[f\"avg_qrs_{lead}\"] = df[lead].apply(lambda wave: average_qrs_distance(wave))\n",
        "new_columns_df = pd.DataFrame(new_columns)\n",
        "df = pd.concat([df, new_columns_df], axis=1)"
      ],
      "metadata": {
        "id": "iL7WYylb2Z-K"
      },
      "execution_count": 7,
      "outputs": []
    },
    {
      "cell_type": "markdown",
      "source": [
        "std qrs"
      ],
      "metadata": {
        "id": "zOfzihS5HvJ4"
      }
    },
    {
      "cell_type": "code",
      "source": [
        "new_columns = {}\n",
        "for lead in lead_names:\n",
        "    new_columns[f\"std_qrs_{lead}\"] = df[lead].apply(lambda wave: std_qrs_distance(wave))\n",
        "new_columns_df = pd.DataFrame(new_columns)\n",
        "df = pd.concat([df, new_columns_df], axis=1)"
      ],
      "metadata": {
        "id": "IAaVsJxDGeL1"
      },
      "execution_count": 8,
      "outputs": []
    },
    {
      "cell_type": "markdown",
      "source": [
        "avg p2p"
      ],
      "metadata": {
        "id": "q6DyjAc0HwAx"
      }
    },
    {
      "cell_type": "code",
      "source": [
        "new_columns = {}\n",
        "for lead in lead_names:\n",
        "    new_columns[f\"avg_p2p_{lead}\"] = df[lead].apply(lambda signal: avg_peak_to_peak(signal))\n",
        "new_columns_df = pd.DataFrame(new_columns)\n",
        "df = pd.concat([df, new_columns_df], axis=1)"
      ],
      "metadata": {
        "id": "Mha4B-SE8D2d"
      },
      "execution_count": 9,
      "outputs": []
    },
    {
      "cell_type": "markdown",
      "source": [
        "std p2p"
      ],
      "metadata": {
        "id": "Uc-rM2eBHwuX"
      }
    },
    {
      "cell_type": "code",
      "source": [
        "new_columns = {}\n",
        "for lead in lead_names:\n",
        "    new_columns[f\"std_p2p_{lead}\"] = df[lead].apply(lambda signal: std_peak_to_peak(signal))\n",
        "new_columns_df = pd.DataFrame(new_columns)\n",
        "df = pd.concat([df, new_columns_df], axis=1)"
      ],
      "metadata": {
        "id": "bbhKbVRvGa0b"
      },
      "execution_count": 10,
      "outputs": []
    },
    {
      "cell_type": "markdown",
      "source": [
        "min value"
      ],
      "metadata": {
        "id": "5MhxN4H1Hxe4"
      }
    },
    {
      "cell_type": "code",
      "source": [
        "new_columns = {}\n",
        "for lead in lead_names:\n",
        "    new_columns[f'min_{lead}'] = df[lead].apply(lambda signal: np.min(signal) if len(signal) > 0 else np.nan)\n",
        "new_columns_df = pd.DataFrame(new_columns)\n",
        "df = pd.concat([df, new_columns_df], axis=1)"
      ],
      "metadata": {
        "id": "r92ku5TS8F2a"
      },
      "execution_count": 11,
      "outputs": []
    },
    {
      "cell_type": "markdown",
      "source": [
        "std of signal"
      ],
      "metadata": {
        "id": "4gYqqrlrHykT"
      }
    },
    {
      "cell_type": "code",
      "source": [
        "new_columns = {}\n",
        "for lead in lead_names:\n",
        "    new_columns[f'std_{lead}'] = df[lead].apply(lambda signal: np.std(signal) if len(signal) > 0 else np.nan)\n",
        "new_columns_df = pd.DataFrame(new_columns)\n",
        "df = pd.concat([df, new_columns_df], axis=1)"
      ],
      "metadata": {
        "id": "WhjBQYHPDcJO"
      },
      "execution_count": 12,
      "outputs": []
    },
    {
      "cell_type": "markdown",
      "source": [
        "max value"
      ],
      "metadata": {
        "id": "YdJ4Jq_FHz23"
      }
    },
    {
      "cell_type": "code",
      "source": [
        "new_columns = {}\n",
        "for lead in lead_names:\n",
        "    df[f'max_{lead}'] = df[lead].apply(lambda signal: np.max(signal) if len(signal) > 0 else np.nan)\n",
        "new_columns_df = pd.DataFrame(new_columns)\n",
        "df = pd.concat([df, new_columns_df], axis=1)"
      ],
      "metadata": {
        "id": "cLD68KdTEs9C"
      },
      "execution_count": 13,
      "outputs": []
    },
    {
      "cell_type": "markdown",
      "source": [
        "avg fft angles"
      ],
      "metadata": {
        "id": "DgFHuFJ1MAlh"
      }
    },
    {
      "cell_type": "code",
      "source": [
        "new_columns = {}\n",
        "for lead in lead_names:\n",
        "    df[f\"avg_fft_angles_{lead}\"] = df[lead].apply(lambda signal: avg_fft_angles(signal))\n",
        "new_columns_df = pd.DataFrame(new_columns)\n",
        "df = pd.concat([df, new_columns_df], axis=1)"
      ],
      "metadata": {
        "id": "okXvrXxvJUwy"
      },
      "execution_count": 14,
      "outputs": []
    },
    {
      "cell_type": "markdown",
      "source": [
        "std fft angles"
      ],
      "metadata": {
        "id": "Lw8VDvOzMCoA"
      }
    },
    {
      "cell_type": "code",
      "source": [
        "new_columns = {}\n",
        "for lead in lead_names:\n",
        "    new_columns[f\"std_fft_angles_{lead}\"] = df[lead].apply(lambda signal: std_fft_angles(signal))\n",
        "new_columns_df = pd.DataFrame(new_columns)\n",
        "df = pd.concat([df, new_columns_df], axis=1)"
      ],
      "metadata": {
        "id": "a5pXj8upJY-f"
      },
      "execution_count": 15,
      "outputs": []
    },
    {
      "cell_type": "markdown",
      "source": [
        "avg fft magnitudes"
      ],
      "metadata": {
        "id": "3MHrQ33SMD9I"
      }
    },
    {
      "cell_type": "code",
      "source": [
        "new_columns = {}\n",
        "for lead in lead_names:\n",
        "    new_columns[f\"avg_fft_magnitudes_{lead}\"] = df[lead].apply(lambda signal: avg_fft_magnitudes(signal))\n",
        "new_columns_df = pd.DataFrame(new_columns)\n",
        "df = pd.concat([df, new_columns_df], axis=1)"
      ],
      "metadata": {
        "id": "CtkfJYpIJerx"
      },
      "execution_count": 16,
      "outputs": []
    },
    {
      "cell_type": "markdown",
      "source": [
        "std fft magnitudes"
      ],
      "metadata": {
        "id": "8gobLf2aMFPQ"
      }
    },
    {
      "cell_type": "code",
      "source": [
        "new_columns = {}\n",
        "for lead in lead_names:\n",
        "    new_columns[f\"std_fft_magnitudes_{lead}\"] = df[lead].apply(lambda signal: std_fft_magnitudes(signal))\n",
        "new_columns_df = pd.DataFrame(new_columns)\n",
        "df = pd.concat([df, new_columns_df], axis=1)"
      ],
      "metadata": {
        "id": "HYroCB3BJjFH"
      },
      "execution_count": 17,
      "outputs": []
    },
    {
      "cell_type": "markdown",
      "source": [
        "drops the waveform data, exam_id, and NaN"
      ],
      "metadata": {
        "id": "pB0J8ysxH0vx"
      }
    },
    {
      "cell_type": "code",
      "source": [
        "df = df.copy()\n",
        "df2 = df.drop(columns=lead_names + [\"exam_id\"])\n",
        "df2 = df2.dropna()"
      ],
      "metadata": {
        "id": "iH9EOtws9apY"
      },
      "execution_count": 18,
      "outputs": []
    },
    {
      "cell_type": "markdown",
      "source": [
        "test train split 80/20"
      ],
      "metadata": {
        "id": "UXWUng6ZH4ZK"
      }
    },
    {
      "cell_type": "code",
      "source": [
        "X_train, X_test, y_train, y_test = train_test_split(df2.drop('chagas', axis=1), df2.chagas, test_size=0.2, random_state=1989)"
      ],
      "metadata": {
        "id": "PVqnSgrk8_qq"
      },
      "execution_count": 19,
      "outputs": []
    },
    {
      "cell_type": "markdown",
      "source": [
        "john standard"
      ],
      "metadata": {
        "id": "IGfS1a_EH59r"
      }
    },
    {
      "cell_type": "code",
      "source": [
        "# let's standardize the data\n",
        "scaler = StandardScaler()\n",
        "\n",
        "# fit the scaler to the training data\n",
        "scaler.fit(X_train)\n",
        "# transform the training data and put it into a new dataframe\n",
        "X_train_scaled = scaler.transform(X_train)\n",
        "X_train_scaled = pd.DataFrame(X_train_scaled, columns=X_train.columns)\n",
        "\n",
        "# transform the testing data and put it into a new dataframe\n",
        "# notice -- we do not fit on the test data\n",
        "X_test_scaled = scaler.transform(X_test)\n",
        "X_test_scaled = pd.DataFrame(X_test_scaled, columns=X_test.columns)"
      ],
      "metadata": {
        "id": "RHp9D6s-8pmU"
      },
      "execution_count": 20,
      "outputs": []
    },
    {
      "cell_type": "markdown",
      "source": [
        "to try and help handle class imbalance"
      ],
      "metadata": {
        "id": "ud-ZCyAIH7Ad"
      }
    },
    {
      "cell_type": "code",
      "source": [
        "smote = SMOTE(random_state=1989)\n",
        "X_resampled, y_resampled = smote.fit_resample(X_train_scaled, y_train)"
      ],
      "metadata": {
        "id": "FIkaVtA4957G"
      },
      "execution_count": 62,
      "outputs": []
    },
    {
      "cell_type": "markdown",
      "source": [
        "balanced random forest classifier also attempts to deal with class imbalance"
      ],
      "metadata": {
        "id": "bSnWG6_MH875"
      }
    },
    {
      "cell_type": "markdown",
      "source": [
        "grid search for optimal parameters"
      ],
      "metadata": {
        "id": "Ikxx2gPxU5SN"
      }
    },
    {
      "cell_type": "code",
      "source": [
        "# model_rf = BalancedRandomForestClassifier(n_estimators=100, random_state=1989, criterion = 'gini', max_depth = 30, bootstrap = True)\n",
        "# model_rf.fit(X_train_scaled, y_train)\n",
        "\n",
        "model = BalancedRandomForestClassifier()\n",
        "\n",
        "# Specify hyperparameters and their possible values\n",
        "param_grid = {\n",
        "    'n_estimators': [100, 200, 300],\n",
        "    'max_depth': [None, 10, 20],\n",
        "    'min_samples_split': [2, 5, 10]\n",
        "}\n",
        "\n",
        "# Initialize GridSearchCV\n",
        "grid_search = GridSearchCV(estimator=model, param_grid=param_grid, cv=5, scoring='precision')\n",
        "\n",
        "# Fit to the data\n",
        "grid_search.fit(X_train_scaled, y_train)\n",
        "\n",
        "# Best hyperparameters\n",
        "model_rf = grid_search.best_estimator_"
      ],
      "metadata": {
        "id": "UpY9jQ1A-AmX"
      },
      "execution_count": 63,
      "outputs": []
    },
    {
      "cell_type": "markdown",
      "source": [
        "the optimal parameters in question"
      ],
      "metadata": {
        "id": "5q6cRzJ5Vkek"
      }
    },
    {
      "cell_type": "code",
      "source": [
        "print(f'Best parameters: {grid_search.best_params_}')"
      ],
      "metadata": {
        "colab": {
          "base_uri": "https://localhost:8080/"
        },
        "id": "r0rjvIJnUZk6",
        "outputId": "58ff113f-a302-4665-a882-2a91bca52263"
      },
      "execution_count": 64,
      "outputs": [
        {
          "output_type": "stream",
          "name": "stdout",
          "text": [
            "Best parameters: {'max_depth': None, 'min_samples_split': 2, 'n_estimators': 300}\n"
          ]
        }
      ]
    },
    {
      "cell_type": "code",
      "source": [
        "feature_names = [col for col in df2.columns if col != 'chagas']"
      ],
      "metadata": {
        "id": "cCilErpsYsWP"
      },
      "execution_count": 80,
      "outputs": []
    },
    {
      "cell_type": "code",
      "source": [
        "importances = model_rf.feature_importances_\n",
        "\n",
        "# Sort the feature importances in descending order and select the top 10\n",
        "indices = np.argsort(importances)[::-1][:10]\n",
        "\n",
        "# Plotting\n",
        "plt.figure(figsize=(10, 6))\n",
        "plt.title(\"Top 10 Feature Importances\")\n",
        "plt.bar(range(10), importances[indices], align=\"center\")\n",
        "plt.xticks(range(10), [feature_names[i] for i in indices], rotation=90)\n",
        "plt.tight_layout()\n",
        "plt.show()"
      ],
      "metadata": {
        "colab": {
          "base_uri": "https://localhost:8080/",
          "height": 607
        },
        "id": "iOkFL9p3YzNU",
        "outputId": "7be73fc5-e8e6-410c-9838-2c0c8b6671b1"
      },
      "execution_count": 81,
      "outputs": [
        {
          "output_type": "display_data",
          "data": {
            "text/plain": [
              "<Figure size 1000x600 with 1 Axes>"
            ],
            "image/png": "[encoded data removed]"
          },
          "metadata": {}
        }
      ]
    },
    {
      "cell_type": "markdown",
      "source": [
        "checks that jawn"
      ],
      "metadata": {
        "id": "GSfo-rkRIAED"
      }
    },
    {
      "cell_type": "code",
      "source": [
        "predictions = model_rf.predict(X_test_scaled)\n",
        "\n",
        "y_prob = model_rf.predict_proba(X_test_scaled)[:, 1]\n",
        "\n",
        "# Set your new threshold (e.g., 0.3 instead of the default 0.5)\n",
        "threshold = 0.52\n",
        "y_pred_adjusted = (y_prob >= threshold).astype(int)\n",
        "\n",
        "cm = confusion_matrix(y_test, y_pred_adjusted)\n",
        "disp = ConfusionMatrixDisplay(cm, display_labels=[f'Chagas {i}' for i in range(2)])\n",
        "disp.plot(cmap='Blues')\n",
        "plt.title('Confusion Matrix For Chagas Using Random Forest')\n",
        "plt.show()"
      ],
      "metadata": {
        "colab": {
          "base_uri": "https://localhost:8080/",
          "height": 472
        },
        "id": "DECLxSHi-bzo",
        "outputId": "6168956d-8127-46f4-c440-7bd87b6c7414"
      },
      "execution_count": 65,
      "outputs": [
        {
          "output_type": "display_data",
          "data": {
            "text/plain": [
              "<Figure size 640x480 with 2 Axes>"
            ],
            "image/png": "[encoded data removed]"
          },
          "metadata": {}
        }
      ]
    },
    {
      "cell_type": "code",
      "source": [
        "# let's plot the roc curve for each class\n",
        "# we need to get the probabilities for each class\n",
        "probs = model_rf.predict_proba(X_test_scaled)\n",
        "fpr = dict()\n",
        "tpr = dict()\n",
        "roc_auc = {0:0, 1:0}\n",
        "for i in range(2):\n",
        "    fpr[i], tpr[i], _ = roc_curve(y_test, probs[:, i], pos_label=i)\n",
        "    # roc_auc expects binary values, so we need to convert the target to binary\n",
        "    # we're using one vs. all, so we'll convert the target to 1 for the class we're interested in and 0 for the other classes\n",
        "    y_test_i = np.array(y_test == i).astype(int)\n",
        "    roc_auc[i] = roc_auc_score(y_test_i, probs[:, i])\n",
        "    plt.plot(fpr[i], tpr[i], label=f'Chagas {i} (AUC = {roc_auc[i]:.2f})')\n",
        "plt.plot([0, 1], [0, 1], color='black', linestyle='--')\n",
        "plt.xlabel('False Positive Rate')\n",
        "plt.ylabel('True Positive Rate')\n",
        "plt.title('ROC Curve For Iris Data Using Best Model')\n",
        "plt.legend()\n",
        "plt.show()"
      ],
      "metadata": {
        "colab": {
          "base_uri": "https://localhost:8080/",
          "height": 472
        },
        "id": "aU3DcWcOYdQU",
        "outputId": "7dee1086-aa6a-4b87-ca33-85fbbddf6742"
      },
      "execution_count": 84,
      "outputs": [
        {
          "output_type": "display_data",
          "data": {
            "text/plain": [
              "<Figure size 640x480 with 1 Axes>"
            ],
            "image/png": "[encoded data removed]"
          },
          "metadata": {}
        }
      ]
    },
    {
      "cell_type": "code",
      "source": [
        "report = classification_report(y_test, y_pred_adjusted)\n",
        "print(\"\\nClassification Report:\")\n",
        "print(report)"
      ],
      "metadata": {
        "colab": {
          "base_uri": "https://localhost:8080/"
        },
        "id": "GxDLIcGRbAzo",
        "outputId": "c5d3d9fd-e0c8-4e6a-e311-ec2b5e4f5d2b"
      },
      "execution_count": 82,
      "outputs": [
        {
          "output_type": "stream",
          "name": "stdout",
          "text": [
            "\n",
            "Classification Report:\n",
            "              precision    recall  f1-score   support\n",
            "\n",
            "       False       0.99      0.87      0.93      3777\n",
            "        True       0.09      0.60      0.16        78\n",
            "\n",
            "    accuracy                           0.87      3855\n",
            "   macro avg       0.54      0.74      0.54      3855\n",
            "weighted avg       0.97      0.87      0.91      3855\n",
            "\n"
          ]
        }
      ]
    }
  ]
}