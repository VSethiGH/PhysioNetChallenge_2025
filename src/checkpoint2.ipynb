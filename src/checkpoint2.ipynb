{
  "nbformat": 4,
  "nbformat_minor": 0,
  "metadata": {
    "colab": {
      "provenance": []
    },
    "kernelspec": {
      "name": "python3",
      "display_name": "Python 3"
    },
    "language_info": {
      "name": "python"
    }
  },
  "cells": [
    {
      "cell_type": "markdown",
      "source": [
        "hfd data wrangling"
      ],
      "metadata": {
        "id": "v2ODoLGZHLHh"
      }
    },
    {
      "cell_type": "code",
      "execution_count": 1,
      "metadata": {
        "colab": {
          "base_uri": "https://localhost:8080/"
        },
        "id": "SbHC6RoHybwL",
        "outputId": "9747505e-3cb2-437f-c625-bcd2032c8a37"
      },
      "outputs": [
        {
          "output_type": "stream",
          "name": "stdout",
          "text": [
            "Requirement already satisfied: h5py in /usr/local/lib/python3.11/dist-packages (3.13.0)\n",
            "Requirement already satisfied: numpy>=1.19.3 in /usr/local/lib/python3.11/dist-packages (from h5py) (2.0.2)\n"
          ]
        }
      ],
      "source": [
        "!pip install h5py"
      ]
    },
    {
      "cell_type": "markdown",
      "source": [
        "john imports"
      ],
      "metadata": {
        "id": "iM4RmbUdHOOd"
      }
    },
    {
      "cell_type": "code",
      "source": [
        "import pandas as pd\n",
        "import matplotlib.pyplot as plt\n",
        "import matplotlib.patches as patches\n",
        "from matplotlib.gridspec import GridSpec\n",
        "import numpy as np\n",
        "import math\n",
        "import h5py\n",
        "import random\n",
        "from scipy.signal import find_peaks, peak_widths\n",
        "from pandas.plotting import scatter_matrix\n",
        "import seaborn as sns\n",
        "from sklearn.model_selection import train_test_split, cross_val_score, GridSearchCV\n",
        "from sklearn.ensemble import RandomForestClassifier\n",
        "from sklearn.preprocessing import StandardScaler\n",
        "from sklearn.metrics import roc_curve, roc_auc_score, classification_report, confusion_matrix,  ConfusionMatrixDisplay, RocCurveDisplay, PrecisionRecallDisplay\n",
        "from imblearn.ensemble import BalancedRandomForestClassifier\n",
        "from imblearn.over_sampling import SMOTE"
      ],
      "metadata": {
        "id": "cG2PaWkgyihV"
      },
      "execution_count": 18,
      "outputs": []
    },
    {
      "cell_type": "markdown",
      "source": [
        "john google drive (data)"
      ],
      "metadata": {
        "id": "ZdZKtRgHHPTc"
      }
    },
    {
      "cell_type": "code",
      "source": [
        "# mount the google drive - this is necessary to access supporting resources\n",
        "from google.colab import drive\n",
        "drive.mount(\"/content/drive\")"
      ],
      "metadata": {
        "colab": {
          "base_uri": "https://localhost:8080/"
        },
        "id": "3yg6CZfQyk99",
        "outputId": "c457e7f3-2448-4cf8-a666-16afa4b1ac9f"
      },
      "execution_count": 3,
      "outputs": [
        {
          "output_type": "stream",
          "name": "stdout",
          "text": [
            "Mounted at /content/drive\n"
          ]
        }
      ]
    },
    {
      "cell_type": "markdown",
      "source": [
        "john standardize (so those samples where it goes like _/- get flatted to ---)"
      ],
      "metadata": {
        "id": "zqePUzqBHSFg"
      }
    },
    {
      "cell_type": "code",
      "source": [
        "def standardize_wave(signal):\n",
        "    signal = np.asarray(signal)\n",
        "\n",
        "    # If signal is too short to compute differences, return empty\n",
        "    if len(signal) < 2:\n",
        "        return np.array([])\n",
        "\n",
        "    # Compute the discrete derivative\n",
        "    diff_signal = np.diff(signal)\n",
        "\n",
        "    # Z-score the derivative: (x - mean) / std\n",
        "    mean_diff = np.mean(diff_signal)\n",
        "    std_diff = np.std(diff_signal)\n",
        "\n",
        "    # To avoid division by zero if the std is 0, handle gracefully:\n",
        "    if std_diff == 0:\n",
        "        # This would mean the signal differences are all the same (or all zero)\n",
        "        # so we can just return a zero array of the same shape\n",
        "        return np.zeros_like(diff_signal)\n",
        "\n",
        "    standardized_diff = (diff_signal - mean_diff) / std_diff\n",
        "\n",
        "    return standardized_diff"
      ],
      "metadata": {
        "id": "1zBbOCiuy3WZ"
      },
      "execution_count": 4,
      "outputs": []
    },
    {
      "cell_type": "markdown",
      "source": [
        "reads in waveforms to arrays in dataframe, standardizes them"
      ],
      "metadata": {
        "id": "XFnp6BBbHZPJ"
      }
    },
    {
      "cell_type": "code",
      "source": [
        "labels_df = pd.read_csv(\"/content/drive/MyDrive/Colab Notebooks/CPSC-4300/data/code15_chagas_labels.csv\")\n",
        "\n",
        "records = []\n",
        "\n",
        "# Define the lead names in the order stored in the HDF5 file.\n",
        "lead_names = ['DI', 'DII', 'DIII', 'AVR', 'AVL', 'AVF',\n",
        "              'V1', 'V2', 'V3', 'V4', 'V5', 'V6']\n",
        "\n",
        "# Open the HDF5 file.\n",
        "with h5py.File(\"/content/drive/MyDrive/Colab Notebooks/CPSC-4300/data/exams_part0.hdf5\", \"r\") as f:\n",
        "    # Load the exam ids (assumed small enough to load into memory)\n",
        "    exam_ids_hdf5 = f['exam_id'][:]  # shape: (N,)\n",
        "    # Build a mapping from exam_id (converted to string) to its index.\n",
        "    exam_id_to_index = {str(eid): idx for idx, eid in enumerate(exam_ids_hdf5)}\n",
        "\n",
        "    # Access the tracings dataset without converting the whole thing to a NumPy array.\n",
        "    tracings = f['tracings']  # shape: (N, 4096, 12)\n",
        "\n",
        "    # Process each exam_id from the CSV.\n",
        "    for _, row in labels_df.iterrows():\n",
        "        exam_id = str(row['exam_id'])\n",
        "        chagas_val = row['chagas']\n",
        "\n",
        "        # Ensure the exam_id exists in the HDF5 file.\n",
        "        if exam_id in exam_id_to_index:\n",
        "            index = exam_id_to_index[exam_id]\n",
        "            # Read only the required chunk for this exam_id.\n",
        "            ecg_data = tracings[index, :, :]  # shape: (4096, 12)\n",
        "\n",
        "            # Create a record for the DataFrame.\n",
        "            record = {\"exam_id\": exam_id, \"chagas\": chagas_val}\n",
        "            # For each lead, extract the corresponding signal and trim leading/trailing zeros.\n",
        "            for j, lead in enumerate(lead_names):\n",
        "                signal = ecg_data[:, j]\n",
        "                # Find indices of non-zero elements.\n",
        "                nonzero_indices = np.nonzero(signal)[0]\n",
        "                if nonzero_indices.size > 0:\n",
        "                    start = nonzero_indices[0]\n",
        "                    end = nonzero_indices[-1] + 1  # +1 to include the last non-zero element.\n",
        "                    trimmed_signal = signal[start:end]\n",
        "                else:\n",
        "                    # If the signal is all zeros, leave it unchanged.\n",
        "                    trimmed_signal = signal\n",
        "                record[lead] = trimmed_signal\n",
        "\n",
        "            records.append(record)\n",
        "\n",
        "# Construct a pandas DataFrame from the collected records.\n",
        "df = pd.DataFrame(records)\n",
        "\n",
        "# --- Standardize each ECG signal array for each lead ---\n",
        "for lead in lead_names:\n",
        "  df[lead] = df[lead].apply(lambda signal: standardize_wave(signal))\n",
        "\n",
        "# Example: print the first row to see the standardized arrays.\n",
        "# print(df.head())"
      ],
      "metadata": {
        "id": "O_OEb2fSy8eg"
      },
      "execution_count": 5,
      "outputs": []
    },
    {
      "cell_type": "markdown",
      "source": [
        "average and standard deviations of both qrs distance approximation (i tried using neurokit2's ecg delineate to get it but it wasn't working as was really slow) and peak-to-peak distance"
      ],
      "metadata": {
        "id": "uOGVrDhnHc2p"
      }
    },
    {
      "cell_type": "code",
      "source": [
        "def average_qrs_distance(ecg, relative_height=0.3):\n",
        "    ecg = np.asarray(ecg)\n",
        "\n",
        "    # Find peaks. You can customize the parameters (like prominence or height) if needed.\n",
        "    peaks, _ = find_peaks(ecg, height=2)\n",
        "\n",
        "    if len(peaks) == 0:\n",
        "        return np.nan\n",
        "\n",
        "    # Compute widths of the detected peaks at the specified relative height.\n",
        "    widths_results = peak_widths(ecg, peaks, rel_height=relative_height)\n",
        "    widths = widths_results[0]  # the first element contains the widths\n",
        "\n",
        "    return np.mean(widths)\n",
        "\n",
        "def std_qrs_distance(ecg, relative_height=0.3):\n",
        "    ecg = np.asarray(ecg)\n",
        "\n",
        "    # Find peaks. You can customize the parameters (like prominence or height) if needed.\n",
        "    peaks, _ = find_peaks(ecg, height=2)\n",
        "\n",
        "    if len(peaks) == 0:\n",
        "        return np.nan\n",
        "\n",
        "    # Compute widths of the detected peaks at the specified relative height.\n",
        "    widths_results = peak_widths(ecg, peaks, rel_height=relative_height)\n",
        "    widths = widths_results[0]  # the first element contains the widths\n",
        "\n",
        "    return np.std(widths)\n",
        "\n",
        "def avg_peak_to_peak(signal, height=2, distance=40):\n",
        "    # Detect peaks using the specified parameters.\n",
        "    peak_indices, _ = find_peaks(signal, height=height, distance=distance)\n",
        "\n",
        "    # If fewer than two peaks are found, return NaN.\n",
        "    if len(peak_indices) < 2:\n",
        "        return np.nan\n",
        "\n",
        "    # Calculate the distances between successive peaks.\n",
        "    peak_to_peak_distances = np.diff(peak_indices)\n",
        "\n",
        "    # Return the average of these distances.\n",
        "    return np.mean(peak_to_peak_distances)\n",
        "\n",
        "def std_peak_to_peak(signal, height=2, distance=40):\n",
        "    # Detect peaks using the specified parameters.\n",
        "    peak_indices, _ = find_peaks(signal, height=height, distance=distance)\n",
        "\n",
        "    # If fewer than two peaks are found, return NaN.\n",
        "    if len(peak_indices) < 2:\n",
        "        return np.nan\n",
        "\n",
        "    # Calculate the distances between successive peaks.\n",
        "    peak_to_peak_distances = np.diff(peak_indices)\n",
        "\n",
        "    # Return the average of these distances.\n",
        "    return np.std(peak_to_peak_distances)"
      ],
      "metadata": {
        "id": "X_BxN_QH2VIq"
      },
      "execution_count": 94,
      "outputs": []
    },
    {
      "cell_type": "markdown",
      "source": [
        "these next few are all in separate cells so you can add a new feature without rerunning everything"
      ],
      "metadata": {
        "id": "Of-lsgIUHloi"
      }
    },
    {
      "cell_type": "markdown",
      "source": [
        "avg qrs"
      ],
      "metadata": {
        "id": "jxLDiOUpHr_e"
      }
    },
    {
      "cell_type": "code",
      "source": [
        "for lead in lead_names:\n",
        "    df[f\"avg_qrs_{lead}\"] = df[lead].apply(lambda wave: average_qrs_distance(wave))"
      ],
      "metadata": {
        "id": "iL7WYylb2Z-K"
      },
      "execution_count": 85,
      "outputs": []
    },
    {
      "cell_type": "markdown",
      "source": [
        "std qrs"
      ],
      "metadata": {
        "id": "zOfzihS5HvJ4"
      }
    },
    {
      "cell_type": "code",
      "source": [
        "for lead in lead_names:\n",
        "    df[f\"std_qrs_{lead}\"] = df[lead].apply(lambda wave: std_qrs_distance(wave))"
      ],
      "metadata": {
        "id": "IAaVsJxDGeL1"
      },
      "execution_count": 97,
      "outputs": []
    },
    {
      "cell_type": "markdown",
      "source": [
        "avg p2p"
      ],
      "metadata": {
        "id": "q6DyjAc0HwAx"
      }
    },
    {
      "cell_type": "code",
      "source": [
        "for lead in lead_names:\n",
        "    df[f\"avg_p2p_{lead}\"] = df[lead].apply(lambda signal: avg_peak_to_peak(signal))"
      ],
      "metadata": {
        "id": "Mha4B-SE8D2d"
      },
      "execution_count": 96,
      "outputs": []
    },
    {
      "cell_type": "markdown",
      "source": [
        "std p2p"
      ],
      "metadata": {
        "id": "Uc-rM2eBHwuX"
      }
    },
    {
      "cell_type": "code",
      "source": [
        "for lead in lead_names:\n",
        "    df[f\"std_p2p_{lead}\"] = df[lead].apply(lambda signal: std_peak_to_peak(signal))"
      ],
      "metadata": {
        "id": "bbhKbVRvGa0b"
      },
      "execution_count": 95,
      "outputs": []
    },
    {
      "cell_type": "markdown",
      "source": [
        "min value"
      ],
      "metadata": {
        "id": "5MhxN4H1Hxe4"
      }
    },
    {
      "cell_type": "code",
      "source": [
        "for lead in lead_names:\n",
        "    df[f'min_{lead}'] = df[lead].apply(lambda signal: np.min(signal) if len(signal) > 0 else np.nan)"
      ],
      "metadata": {
        "id": "r92ku5TS8F2a"
      },
      "execution_count": 74,
      "outputs": []
    },
    {
      "cell_type": "markdown",
      "source": [
        "std of signal"
      ],
      "metadata": {
        "id": "4gYqqrlrHykT"
      }
    },
    {
      "cell_type": "code",
      "source": [
        "for lead in lead_names:\n",
        "    df[f'std_{lead}'] = df[lead].apply(lambda signal: np.std(signal) if len(signal) > 0 else np.nan)"
      ],
      "metadata": {
        "id": "WhjBQYHPDcJO"
      },
      "execution_count": 73,
      "outputs": []
    },
    {
      "cell_type": "markdown",
      "source": [
        "max value"
      ],
      "metadata": {
        "id": "YdJ4Jq_FHz23"
      }
    },
    {
      "cell_type": "code",
      "source": [
        "for lead in lead_names:\n",
        "    df[f'max_{lead}'] = df[lead].apply(lambda signal: np.max(signal) if len(signal) > 0 else np.nan)"
      ],
      "metadata": {
        "id": "cLD68KdTEs9C"
      },
      "execution_count": 77,
      "outputs": []
    },
    {
      "cell_type": "markdown",
      "source": [
        "drops the waveform data, exam_id, and NaN"
      ],
      "metadata": {
        "id": "pB0J8ysxH0vx"
      }
    },
    {
      "cell_type": "code",
      "source": [
        "df2 = df.drop(columns=lead_names + [\"exam_id\"])\n",
        "df2 = df2.dropna()"
      ],
      "metadata": {
        "id": "iH9EOtws9apY"
      },
      "execution_count": 98,
      "outputs": []
    },
    {
      "cell_type": "markdown",
      "source": [
        "test train split 80/20"
      ],
      "metadata": {
        "id": "UXWUng6ZH4ZK"
      }
    },
    {
      "cell_type": "code",
      "source": [
        "X_train, X_test, y_train, y_test = train_test_split(df2.drop('chagas', axis=1), df2.chagas, test_size=0.2, random_state=1989)"
      ],
      "metadata": {
        "id": "PVqnSgrk8_qq"
      },
      "execution_count": 99,
      "outputs": []
    },
    {
      "cell_type": "markdown",
      "source": [
        "john standard"
      ],
      "metadata": {
        "id": "IGfS1a_EH59r"
      }
    },
    {
      "cell_type": "code",
      "source": [
        "# let's standardize the data\n",
        "scaler = StandardScaler()\n",
        "\n",
        "# fit the scaler to the training data\n",
        "scaler.fit(X_train)\n",
        "# transform the training data and put it into a new dataframe\n",
        "X_train_scaled = scaler.transform(X_train)\n",
        "X_train_scaled = pd.DataFrame(X_train_scaled, columns=X_train.columns)\n",
        "\n",
        "# transform the testing data and put it into a new dataframe\n",
        "# notice -- we do not fit on the test data\n",
        "X_test_scaled = scaler.transform(X_test)\n",
        "X_test_scaled = pd.DataFrame(X_test_scaled, columns=X_test.columns)"
      ],
      "metadata": {
        "id": "RHp9D6s-8pmU"
      },
      "execution_count": 100,
      "outputs": []
    },
    {
      "cell_type": "markdown",
      "source": [
        "to try and help handle class imbalance"
      ],
      "metadata": {
        "id": "ud-ZCyAIH7Ad"
      }
    },
    {
      "cell_type": "code",
      "source": [
        "smote = SMOTE(random_state=1989)\n",
        "X_resampled, y_resampled = smote.fit_resample(X_train_scaled, y_train)"
      ],
      "metadata": {
        "id": "FIkaVtA4957G"
      },
      "execution_count": 101,
      "outputs": []
    },
    {
      "cell_type": "markdown",
      "source": [
        "balanced random forest classifier also attempts to deal with class imbalance"
      ],
      "metadata": {
        "id": "bSnWG6_MH875"
      }
    },
    {
      "cell_type": "code",
      "source": [
        "model_rf = BalancedRandomForestClassifier(n_estimators=100, random_state=1989)\n",
        "model_rf.fit(X_train_scaled, y_train)"
      ],
      "metadata": {
        "colab": {
          "base_uri": "https://localhost:8080/",
          "height": 80
        },
        "id": "UpY9jQ1A-AmX",
        "outputId": "1b55ecb3-8e97-46fe-bd70-0a3e9502fa4c"
      },
      "execution_count": 102,
      "outputs": [
        {
          "output_type": "execute_result",
          "data": {
            "text/plain": [
              "BalancedRandomForestClassifier(random_state=1989)"
            ],
            "text/html": [
              "<style>#sk-container-id-14 {\n",
              "  /* Definition of color scheme common for light and dark mode */\n",
              "  --sklearn-color-text: #000;\n",
              "  --sklearn-color-text-muted: #666;\n",
              "  --sklearn-color-line: gray;\n",
              "  /* Definition of color scheme for unfitted estimators */\n",
              "  --sklearn-color-unfitted-level-0: #fff5e6;\n",
              "  --sklearn-color-unfitted-level-1: #f6e4d2;\n",
              "  --sklearn-color-unfitted-level-2: #ffe0b3;\n",
              "  --sklearn-color-unfitted-level-3: chocolate;\n",
              "  /* Definition of color scheme for fitted estimators */\n",
              "  --sklearn-color-fitted-level-0: #f0f8ff;\n",
              "  --sklearn-color-fitted-level-1: #d4ebff;\n",
              "  --sklearn-color-fitted-level-2: #b3dbfd;\n",
              "  --sklearn-color-fitted-level-3: cornflowerblue;\n",
              "\n",
              "  /* Specific color for light theme */\n",
              "  --sklearn-color-text-on-default-background: var(--sg-text-color, var(--theme-code-foreground, var(--jp-content-font-color1, black)));\n",
              "  --sklearn-color-background: var(--sg-background-color, var(--theme-background, var(--jp-layout-color0, white)));\n",
              "  --sklearn-color-border-box: var(--sg-text-color, var(--theme-code-foreground, var(--jp-content-font-color1, black)));\n",
              "  --sklearn-color-icon: #696969;\n",
              "\n",
              "  @media (prefers-color-scheme: dark) {\n",
              "    /* Redefinition of color scheme for dark theme */\n",
              "    --sklearn-color-text-on-default-background: var(--sg-text-color, var(--theme-code-foreground, var(--jp-content-font-color1, white)));\n",
              "    --sklearn-color-background: var(--sg-background-color, var(--theme-background, var(--jp-layout-color0, #111)));\n",
              "    --sklearn-color-border-box: var(--sg-text-color, var(--theme-code-foreground, var(--jp-content-font-color1, white)));\n",
              "    --sklearn-color-icon: #878787;\n",
              "  }\n",
              "}\n",
              "\n",
              "#sk-container-id-14 {\n",
              "  color: var(--sklearn-color-text);\n",
              "}\n",
              "\n",
              "#sk-container-id-14 pre {\n",
              "  padding: 0;\n",
              "}\n",
              "\n",
              "#sk-container-id-14 input.sk-hidden--visually {\n",
              "  border: 0;\n",
              "  clip: rect(1px 1px 1px 1px);\n",
              "  clip: rect(1px, 1px, 1px, 1px);\n",
              "  height: 1px;\n",
              "  margin: -1px;\n",
              "  overflow: hidden;\n",
              "  padding: 0;\n",
              "  position: absolute;\n",
              "  width: 1px;\n",
              "}\n",
              "\n",
              "#sk-container-id-14 div.sk-dashed-wrapped {\n",
              "  border: 1px dashed var(--sklearn-color-line);\n",
              "  margin: 0 0.4em 0.5em 0.4em;\n",
              "  box-sizing: border-box;\n",
              "  padding-bottom: 0.4em;\n",
              "  background-color: var(--sklearn-color-background);\n",
              "}\n",
              "\n",
              "#sk-container-id-14 div.sk-container {\n",
              "  /* jupyter's `normalize.less` sets `[hidden] { display: none; }`\n",
              "     but bootstrap.min.css set `[hidden] { display: none !important; }`\n",
              "     so we also need the `!important` here to be able to override the\n",
              "     default hidden behavior on the sphinx rendered scikit-learn.org.\n",
              "     See: https://github.com/scikit-learn/scikit-learn/issues/21755 */\n",
              "  display: inline-block !important;\n",
              "  position: relative;\n",
              "}\n",
              "\n",
              "#sk-container-id-14 div.sk-text-repr-fallback {\n",
              "  display: none;\n",
              "}\n",
              "\n",
              "div.sk-parallel-item,\n",
              "div.sk-serial,\n",
              "div.sk-item {\n",
              "  /* draw centered vertical line to link estimators */\n",
              "  background-image: linear-gradient(var(--sklearn-color-text-on-default-background), var(--sklearn-color-text-on-default-background));\n",
              "  background-size: 2px 100%;\n",
              "  background-repeat: no-repeat;\n",
              "  background-position: center center;\n",
              "}\n",
              "\n",
              "/* Parallel-specific style estimator block */\n",
              "\n",
              "#sk-container-id-14 div.sk-parallel-item::after {\n",
              "  content: \"\";\n",
              "  width: 100%;\n",
              "  border-bottom: 2px solid var(--sklearn-color-text-on-default-background);\n",
              "  flex-grow: 1;\n",
              "}\n",
              "\n",
              "#sk-container-id-14 div.sk-parallel {\n",
              "  display: flex;\n",
              "  align-items: stretch;\n",
              "  justify-content: center;\n",
              "  background-color: var(--sklearn-color-background);\n",
              "  position: relative;\n",
              "}\n",
              "\n",
              "#sk-container-id-14 div.sk-parallel-item {\n",
              "  display: flex;\n",
              "  flex-direction: column;\n",
              "}\n",
              "\n",
              "#sk-container-id-14 div.sk-parallel-item:first-child::after {\n",
              "  align-self: flex-end;\n",
              "  width: 50%;\n",
              "}\n",
              "\n",
              "#sk-container-id-14 div.sk-parallel-item:last-child::after {\n",
              "  align-self: flex-start;\n",
              "  width: 50%;\n",
              "}\n",
              "\n",
              "#sk-container-id-14 div.sk-parallel-item:only-child::after {\n",
              "  width: 0;\n",
              "}\n",
              "\n",
              "/* Serial-specific style estimator block */\n",
              "\n",
              "#sk-container-id-14 div.sk-serial {\n",
              "  display: flex;\n",
              "  flex-direction: column;\n",
              "  align-items: center;\n",
              "  background-color: var(--sklearn-color-background);\n",
              "  padding-right: 1em;\n",
              "  padding-left: 1em;\n",
              "}\n",
              "\n",
              "\n",
              "/* Toggleable style: style used for estimator/Pipeline/ColumnTransformer box that is\n",
              "clickable and can be expanded/collapsed.\n",
              "- Pipeline and ColumnTransformer use this feature and define the default style\n",
              "- Estimators will overwrite some part of the style using the `sk-estimator` class\n",
              "*/\n",
              "\n",
              "/* Pipeline and ColumnTransformer style (default) */\n",
              "\n",
              "#sk-container-id-14 div.sk-toggleable {\n",
              "  /* Default theme specific background. It is overwritten whether we have a\n",
              "  specific estimator or a Pipeline/ColumnTransformer */\n",
              "  background-color: var(--sklearn-color-background);\n",
              "}\n",
              "\n",
              "/* Toggleable label */\n",
              "#sk-container-id-14 label.sk-toggleable__label {\n",
              "  cursor: pointer;\n",
              "  display: flex;\n",
              "  width: 100%;\n",
              "  margin-bottom: 0;\n",
              "  padding: 0.5em;\n",
              "  box-sizing: border-box;\n",
              "  text-align: center;\n",
              "  align-items: start;\n",
              "  justify-content: space-between;\n",
              "  gap: 0.5em;\n",
              "}\n",
              "\n",
              "#sk-container-id-14 label.sk-toggleable__label .caption {\n",
              "  font-size: 0.6rem;\n",
              "  font-weight: lighter;\n",
              "  color: var(--sklearn-color-text-muted);\n",
              "}\n",
              "\n",
              "#sk-container-id-14 label.sk-toggleable__label-arrow:before {\n",
              "  /* Arrow on the left of the label */\n",
              "  content: \"▸\";\n",
              "  float: left;\n",
              "  margin-right: 0.25em;\n",
              "  color: var(--sklearn-color-icon);\n",
              "}\n",
              "\n",
              "#sk-container-id-14 label.sk-toggleable__label-arrow:hover:before {\n",
              "  color: var(--sklearn-color-text);\n",
              "}\n",
              "\n",
              "/* Toggleable content - dropdown */\n",
              "\n",
              "#sk-container-id-14 div.sk-toggleable__content {\n",
              "  max-height: 0;\n",
              "  max-width: 0;\n",
              "  overflow: hidden;\n",
              "  text-align: left;\n",
              "  /* unfitted */\n",
              "  background-color: var(--sklearn-color-unfitted-level-0);\n",
              "}\n",
              "\n",
              "#sk-container-id-14 div.sk-toggleable__content.fitted {\n",
              "  /* fitted */\n",
              "  background-color: var(--sklearn-color-fitted-level-0);\n",
              "}\n",
              "\n",
              "#sk-container-id-14 div.sk-toggleable__content pre {\n",
              "  margin: 0.2em;\n",
              "  border-radius: 0.25em;\n",
              "  color: var(--sklearn-color-text);\n",
              "  /* unfitted */\n",
              "  background-color: var(--sklearn-color-unfitted-level-0);\n",
              "}\n",
              "\n",
              "#sk-container-id-14 div.sk-toggleable__content.fitted pre {\n",
              "  /* unfitted */\n",
              "  background-color: var(--sklearn-color-fitted-level-0);\n",
              "}\n",
              "\n",
              "#sk-container-id-14 input.sk-toggleable__control:checked~div.sk-toggleable__content {\n",
              "  /* Expand drop-down */\n",
              "  max-height: 200px;\n",
              "  max-width: 100%;\n",
              "  overflow: auto;\n",
              "}\n",
              "\n",
              "#sk-container-id-14 input.sk-toggleable__control:checked~label.sk-toggleable__label-arrow:before {\n",
              "  content: \"▾\";\n",
              "}\n",
              "\n",
              "/* Pipeline/ColumnTransformer-specific style */\n",
              "\n",
              "#sk-container-id-14 div.sk-label input.sk-toggleable__control:checked~label.sk-toggleable__label {\n",
              "  color: var(--sklearn-color-text);\n",
              "  background-color: var(--sklearn-color-unfitted-level-2);\n",
              "}\n",
              "\n",
              "#sk-container-id-14 div.sk-label.fitted input.sk-toggleable__control:checked~label.sk-toggleable__label {\n",
              "  background-color: var(--sklearn-color-fitted-level-2);\n",
              "}\n",
              "\n",
              "/* Estimator-specific style */\n",
              "\n",
              "/* Colorize estimator box */\n",
              "#sk-container-id-14 div.sk-estimator input.sk-toggleable__control:checked~label.sk-toggleable__label {\n",
              "  /* unfitted */\n",
              "  background-color: var(--sklearn-color-unfitted-level-2);\n",
              "}\n",
              "\n",
              "#sk-container-id-14 div.sk-estimator.fitted input.sk-toggleable__control:checked~label.sk-toggleable__label {\n",
              "  /* fitted */\n",
              "  background-color: var(--sklearn-color-fitted-level-2);\n",
              "}\n",
              "\n",
              "#sk-container-id-14 div.sk-label label.sk-toggleable__label,\n",
              "#sk-container-id-14 div.sk-label label {\n",
              "  /* The background is the default theme color */\n",
              "  color: var(--sklearn-color-text-on-default-background);\n",
              "}\n",
              "\n",
              "/* On hover, darken the color of the background */\n",
              "#sk-container-id-14 div.sk-label:hover label.sk-toggleable__label {\n",
              "  color: var(--sklearn-color-text);\n",
              "  background-color: var(--sklearn-color-unfitted-level-2);\n",
              "}\n",
              "\n",
              "/* Label box, darken color on hover, fitted */\n",
              "#sk-container-id-14 div.sk-label.fitted:hover label.sk-toggleable__label.fitted {\n",
              "  color: var(--sklearn-color-text);\n",
              "  background-color: var(--sklearn-color-fitted-level-2);\n",
              "}\n",
              "\n",
              "/* Estimator label */\n",
              "\n",
              "#sk-container-id-14 div.sk-label label {\n",
              "  font-family: monospace;\n",
              "  font-weight: bold;\n",
              "  display: inline-block;\n",
              "  line-height: 1.2em;\n",
              "}\n",
              "\n",
              "#sk-container-id-14 div.sk-label-container {\n",
              "  text-align: center;\n",
              "}\n",
              "\n",
              "/* Estimator-specific */\n",
              "#sk-container-id-14 div.sk-estimator {\n",
              "  font-family: monospace;\n",
              "  border: 1px dotted var(--sklearn-color-border-box);\n",
              "  border-radius: 0.25em;\n",
              "  box-sizing: border-box;\n",
              "  margin-bottom: 0.5em;\n",
              "  /* unfitted */\n",
              "  background-color: var(--sklearn-color-unfitted-level-0);\n",
              "}\n",
              "\n",
              "#sk-container-id-14 div.sk-estimator.fitted {\n",
              "  /* fitted */\n",
              "  background-color: var(--sklearn-color-fitted-level-0);\n",
              "}\n",
              "\n",
              "/* on hover */\n",
              "#sk-container-id-14 div.sk-estimator:hover {\n",
              "  /* unfitted */\n",
              "  background-color: var(--sklearn-color-unfitted-level-2);\n",
              "}\n",
              "\n",
              "#sk-container-id-14 div.sk-estimator.fitted:hover {\n",
              "  /* fitted */\n",
              "  background-color: var(--sklearn-color-fitted-level-2);\n",
              "}\n",
              "\n",
              "/* Specification for estimator info (e.g. \"i\" and \"?\") */\n",
              "\n",
              "/* Common style for \"i\" and \"?\" */\n",
              "\n",
              ".sk-estimator-doc-link,\n",
              "a:link.sk-estimator-doc-link,\n",
              "a:visited.sk-estimator-doc-link {\n",
              "  float: right;\n",
              "  font-size: smaller;\n",
              "  line-height: 1em;\n",
              "  font-family: monospace;\n",
              "  background-color: var(--sklearn-color-background);\n",
              "  border-radius: 1em;\n",
              "  height: 1em;\n",
              "  width: 1em;\n",
              "  text-decoration: none !important;\n",
              "  margin-left: 0.5em;\n",
              "  text-align: center;\n",
              "  /* unfitted */\n",
              "  border: var(--sklearn-color-unfitted-level-1) 1pt solid;\n",
              "  color: var(--sklearn-color-unfitted-level-1);\n",
              "}\n",
              "\n",
              ".sk-estimator-doc-link.fitted,\n",
              "a:link.sk-estimator-doc-link.fitted,\n",
              "a:visited.sk-estimator-doc-link.fitted {\n",
              "  /* fitted */\n",
              "  border: var(--sklearn-color-fitted-level-1) 1pt solid;\n",
              "  color: var(--sklearn-color-fitted-level-1);\n",
              "}\n",
              "\n",
              "/* On hover */\n",
              "div.sk-estimator:hover .sk-estimator-doc-link:hover,\n",
              ".sk-estimator-doc-link:hover,\n",
              "div.sk-label-container:hover .sk-estimator-doc-link:hover,\n",
              ".sk-estimator-doc-link:hover {\n",
              "  /* unfitted */\n",
              "  background-color: var(--sklearn-color-unfitted-level-3);\n",
              "  color: var(--sklearn-color-background);\n",
              "  text-decoration: none;\n",
              "}\n",
              "\n",
              "div.sk-estimator.fitted:hover .sk-estimator-doc-link.fitted:hover,\n",
              ".sk-estimator-doc-link.fitted:hover,\n",
              "div.sk-label-container:hover .sk-estimator-doc-link.fitted:hover,\n",
              ".sk-estimator-doc-link.fitted:hover {\n",
              "  /* fitted */\n",
              "  background-color: var(--sklearn-color-fitted-level-3);\n",
              "  color: var(--sklearn-color-background);\n",
              "  text-decoration: none;\n",
              "}\n",
              "\n",
              "/* Span, style for the box shown on hovering the info icon */\n",
              ".sk-estimator-doc-link span {\n",
              "  display: none;\n",
              "  z-index: 9999;\n",
              "  position: relative;\n",
              "  font-weight: normal;\n",
              "  right: .2ex;\n",
              "  padding: .5ex;\n",
              "  margin: .5ex;\n",
              "  width: min-content;\n",
              "  min-width: 20ex;\n",
              "  max-width: 50ex;\n",
              "  color: var(--sklearn-color-text);\n",
              "  box-shadow: 2pt 2pt 4pt #999;\n",
              "  /* unfitted */\n",
              "  background: var(--sklearn-color-unfitted-level-0);\n",
              "  border: .5pt solid var(--sklearn-color-unfitted-level-3);\n",
              "}\n",
              "\n",
              ".sk-estimator-doc-link.fitted span {\n",
              "  /* fitted */\n",
              "  background: var(--sklearn-color-fitted-level-0);\n",
              "  border: var(--sklearn-color-fitted-level-3);\n",
              "}\n",
              "\n",
              ".sk-estimator-doc-link:hover span {\n",
              "  display: block;\n",
              "}\n",
              "\n",
              "/* \"?\"-specific style due to the `<a>` HTML tag */\n",
              "\n",
              "#sk-container-id-14 a.estimator_doc_link {\n",
              "  float: right;\n",
              "  font-size: 1rem;\n",
              "  line-height: 1em;\n",
              "  font-family: monospace;\n",
              "  background-color: var(--sklearn-color-background);\n",
              "  border-radius: 1rem;\n",
              "  height: 1rem;\n",
              "  width: 1rem;\n",
              "  text-decoration: none;\n",
              "  /* unfitted */\n",
              "  color: var(--sklearn-color-unfitted-level-1);\n",
              "  border: var(--sklearn-color-unfitted-level-1) 1pt solid;\n",
              "}\n",
              "\n",
              "#sk-container-id-14 a.estimator_doc_link.fitted {\n",
              "  /* fitted */\n",
              "  border: var(--sklearn-color-fitted-level-1) 1pt solid;\n",
              "  color: var(--sklearn-color-fitted-level-1);\n",
              "}\n",
              "\n",
              "/* On hover */\n",
              "#sk-container-id-14 a.estimator_doc_link:hover {\n",
              "  /* unfitted */\n",
              "  background-color: var(--sklearn-color-unfitted-level-3);\n",
              "  color: var(--sklearn-color-background);\n",
              "  text-decoration: none;\n",
              "}\n",
              "\n",
              "#sk-container-id-14 a.estimator_doc_link.fitted:hover {\n",
              "  /* fitted */\n",
              "  background-color: var(--sklearn-color-fitted-level-3);\n",
              "}\n",
              "</style><div id=\"sk-container-id-14\" class=\"sk-top-container\"><div class=\"sk-text-repr-fallback\"><pre>BalancedRandomForestClassifier(random_state=1989)</pre><b>In a Jupyter environment, please rerun this cell to show the HTML representation or trust the notebook. <br />On GitHub, the HTML representation is unable to render, please try loading this page with nbviewer.org.</b></div><div class=\"sk-container\" hidden><div class=\"sk-item\"><div class=\"sk-estimator fitted sk-toggleable\"><input class=\"sk-toggleable__control sk-hidden--visually\" id=\"sk-estimator-id-14\" type=\"checkbox\" checked><label for=\"sk-estimator-id-14\" class=\"sk-toggleable__label fitted sk-toggleable__label-arrow\"><div><div>BalancedRandomForestClassifier</div></div><div><span class=\"sk-estimator-doc-link fitted\">i<span>Fitted</span></span></div></label><div class=\"sk-toggleable__content fitted\"><pre>BalancedRandomForestClassifier(random_state=1989)</pre></div> </div></div></div></div>"
            ]
          },
          "metadata": {},
          "execution_count": 102
        }
      ]
    },
    {
      "cell_type": "markdown",
      "source": [
        "checks that jawn"
      ],
      "metadata": {
        "id": "GSfo-rkRIAED"
      }
    },
    {
      "cell_type": "code",
      "source": [
        "predictions = model_rf.predict(X_test_scaled)\n",
        "cm = confusion_matrix(y_test, predictions)\n",
        "disp = ConfusionMatrixDisplay(cm, display_labels=[f'Chagas {i}' for i in range(2)])\n",
        "disp.plot(cmap='Blues')\n",
        "plt.title('Confusion Matrix For Chagas Using Random Forest')\n",
        "plt.show()"
      ],
      "metadata": {
        "colab": {
          "base_uri": "https://localhost:8080/",
          "height": 472
        },
        "id": "DECLxSHi-bzo",
        "outputId": "f24ae903-90f5-4f38-985f-80a3a2ab6dae"
      },
      "execution_count": 103,
      "outputs": [
        {
          "output_type": "display_data",
          "data": {
            "text/plain": [
              "<Figure size 640x480 with 2 Axes>"
            ],
            "image/png": "[encoded data removed]"
          },
          "metadata": {}
        }
      ]
    }
  ]
}