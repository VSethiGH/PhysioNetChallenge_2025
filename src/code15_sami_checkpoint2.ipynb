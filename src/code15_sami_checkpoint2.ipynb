{
  "cells": [
    {
      "cell_type": "markdown",
      "metadata": {
        "id": "v2ODoLGZHLHh"
      },
      "source": [
        "hfd data wrangling"
      ]
    },
    {
      "cell_type": "code",
      "execution_count": 1,
      "metadata": {
        "colab": {
          "base_uri": "https://localhost:8080/"
        },
        "id": "SbHC6RoHybwL",
        "outputId": "9747505e-3cb2-437f-c625-bcd2032c8a37"
      },
      "outputs": [
        {
          "name": "stdout",
          "output_type": "stream",
          "text": [
            "Requirement already satisfied: h5py in c:\\users\\kriby\\appdata\\local\\programs\\python\\python311\\lib\\site-packages (3.13.0)\n",
            "Requirement already satisfied: numpy>=1.19.3 in c:\\users\\kriby\\appdata\\local\\programs\\python\\python311\\lib\\site-packages (from h5py) (1.26.1)\n"
          ]
        }
      ],
      "source": [
        "!pip install h5py"
      ]
    },
    {
      "cell_type": "markdown",
      "metadata": {
        "id": "iM4RmbUdHOOd"
      },
      "source": [
        "john imports"
      ]
    },
    {
      "cell_type": "code",
      "execution_count": 2,
      "metadata": {
        "id": "cG2PaWkgyihV"
      },
      "outputs": [],
      "source": [
        "import pandas as pd\n",
        "import matplotlib.pyplot as plt\n",
        "import matplotlib.patches as patches\n",
        "from matplotlib.gridspec import GridSpec\n",
        "import numpy as np\n",
        "import math\n",
        "import h5py\n",
        "import random\n",
        "from scipy.signal import find_peaks, peak_widths\n",
        "from pandas.plotting import scatter_matrix\n",
        "import seaborn as sns\n",
        "from sklearn.model_selection import train_test_split, cross_val_score, GridSearchCV\n",
        "from sklearn.ensemble import RandomForestClassifier\n",
        "from sklearn.preprocessing import StandardScaler\n",
        "from sklearn.metrics import roc_curve, roc_auc_score, classification_report, confusion_matrix,  ConfusionMatrixDisplay, RocCurveDisplay, PrecisionRecallDisplay\n",
        "from imblearn.ensemble import BalancedRandomForestClassifier\n",
        "from imblearn.over_sampling import SMOTE"
      ]
    },
    {
      "cell_type": "markdown",
      "metadata": {
        "id": "ZdZKtRgHHPTc"
      },
      "source": [
        "john google drive (data)"
      ]
    },
    {
      "cell_type": "code",
      "execution_count": 3,
      "metadata": {
        "colab": {
          "base_uri": "https://localhost:8080/"
        },
        "id": "3yg6CZfQyk99",
        "outputId": "c457e7f3-2448-4cf8-a666-16afa4b1ac9f"
      },
      "outputs": [],
      "source": [
        "# # mount the google drive - this is necessary to access supporting resources\n",
        "# from google.colab import drive\n",
        "# drive.mount(\"/content/drive\")"
      ]
    },
    {
      "cell_type": "markdown",
      "metadata": {
        "id": "zqePUzqBHSFg"
      },
      "source": [
        "john standardize (so those samples where it goes like _/- get flatted to ---)"
      ]
    },
    {
      "cell_type": "code",
      "execution_count": 4,
      "metadata": {
        "id": "1zBbOCiuy3WZ"
      },
      "outputs": [],
      "source": [
        "def standardize_wave(signal):\n",
        "    signal = np.asarray(signal)\n",
        "\n",
        "    # If signal is too short to compute differences, return empty\n",
        "    if len(signal) < 2:\n",
        "        return np.array([])\n",
        "\n",
        "    # Compute the discrete derivative\n",
        "    diff_signal = np.diff(signal)\n",
        "\n",
        "    # Z-score the derivative: (x - mean) / std\n",
        "    mean_diff = np.mean(diff_signal)\n",
        "    std_diff = np.std(diff_signal)\n",
        "\n",
        "    # To avoid division by zero if the std is 0, handle gracefully:\n",
        "    if std_diff == 0:\n",
        "        # This would mean the signal differences are all the same (or all zero)\n",
        "        # so we can just return a zero array of the same shape\n",
        "        return np.zeros_like(diff_signal)\n",
        "\n",
        "    standardized_diff = (diff_signal - mean_diff) / std_diff\n",
        "\n",
        "    return standardized_diff"
      ]
    },
    {
      "cell_type": "markdown",
      "metadata": {
        "id": "XFnp6BBbHZPJ"
      },
      "source": [
        "reads in waveforms to arrays in dataframe, standardizes them"
      ]
    },
    {
      "cell_type": "code",
      "execution_count": 5,
      "metadata": {
        "id": "O_OEb2fSy8eg"
      },
      "outputs": [
        {
          "name": "stdout",
          "output_type": "stream",
          "text": [
            "Processing Code15 dataset...\n",
            "Processed 19939 records from Code15 dataset\n",
            "Processed 39887 records from Code15 dataset\n",
            "Processed 59841 records from Code15 dataset\n",
            "(59841, 15)\n",
            "\n",
            "Processing SAMI dataset...\n",
            "Processed 815 records from SAMI dataset\n",
            "\n",
            "Combining datasets...\n",
            "(60656, 15)\n"
          ]
        }
      ],
      "source": [
        "num_of_code15_datasets = 3\n",
        "\n",
        "lead_names = ['DI', 'DII', 'DIII', 'AVR', 'AVL', 'AVF',\n",
        "              'V1', 'V2', 'V3', 'V4', 'V5', 'V6']\n",
        "\n",
        "# ----- PROCESS CODE15 DATASET -----\n",
        "print(\"Processing Code15 dataset...\")\n",
        "code15_labels_path = \"../data/Code15/code15_chagas_labels.csv\"\n",
        "\n",
        "code15_labels_df = pd.read_csv(code15_labels_path)\n",
        "code15_records = []\n",
        "\n",
        "# Open the Code15 HDF5 file\n",
        "#code15_hdf5_path_seg = \"../data/Code15/exams_part0.hdf5\"\n",
        "for i in range (num_of_code15_datasets):\n",
        "    code15_hdf5_path = \"../data/Code15/exams_part\" + str(i) + \".hdf5\"\n",
        "    with h5py.File(code15_hdf5_path, \"r\") as f:\n",
        "        # Load the exam ids\n",
        "        exam_ids_hdf5 = f['exam_id'][:]\n",
        "        # Build a mapping from exam_id to its index\n",
        "        exam_id_to_index = {str(eid): idx for idx, eid in enumerate(exam_ids_hdf5)}\n",
        "        \n",
        "        # Access the tracings dataset\n",
        "        tracings = f['tracings']\n",
        "        \n",
        "        # Process each exam_id from the CSV\n",
        "        for _, row in code15_labels_df.iterrows():\n",
        "            exam_id = str(row['exam_id'])\n",
        "            chagas_val = row['chagas']\n",
        "            \n",
        "            # Ensure the exam_id exists in the HDF5 file\n",
        "            if exam_id in exam_id_to_index:\n",
        "                index = exam_id_to_index[exam_id]\n",
        "                # Read only the required chunk for this exam_id\n",
        "                ecg_data = tracings[index, :, :]\n",
        "                \n",
        "                # Create a record for the DataFrame\n",
        "                record = {\"exam_id\": exam_id, \"chagas\": chagas_val, \"source\": \"CODE15\"}\n",
        "                # For each lead, extract the corresponding signal and trim leading/trailing zeros\n",
        "                for j, lead in enumerate(lead_names):\n",
        "                    signal = ecg_data[:, j]\n",
        "                    # Find indices of non-zero elements\n",
        "                    nonzero_indices = np.nonzero(signal)[0]\n",
        "                    if nonzero_indices.size > 0:\n",
        "                        start = nonzero_indices[0]\n",
        "                        end = nonzero_indices[-1] + 1\n",
        "                        trimmed_signal = signal[start:end]\n",
        "                    else:\n",
        "                        trimmed_signal = signal\n",
        "                    record[lead] = trimmed_signal\n",
        "                \n",
        "                code15_records.append(record)\n",
        "        \n",
        "        print(f\"Processed {len(code15_records)} records from Code15 dataset\")\n",
        "\n",
        "# Create Code15 DataFrame\n",
        "code15_df = pd.DataFrame(code15_records)\n",
        "print(code15_df.shape)\n",
        "\n",
        "# ----- PROCESS SAMI DATASET -----\n",
        "\n",
        "print(\"\\nProcessing SAMI dataset...\")\n",
        "sami_labels_path = \"../data/sami/samitrop_chagas_labels.csv\"\n",
        "sami_hdf5_path = \"../data/sami/sami_exams.hdf5\"\n",
        "\n",
        "# Load SAMI labels\n",
        "sami_labels_df = pd.read_csv(sami_labels_path)\n",
        "\n",
        "sami_records = []\n",
        "# SAMI lead names (these are different from CODE15)\n",
        "sami_lead_names = ['I', 'II', 'III', 'AVR', 'AVL', 'AVF',\n",
        "                  'V1', 'V2', 'V3', 'V4', 'V5', 'V6']\n",
        "\n",
        "# Open SAMI HDF5 file and process data\n",
        "with h5py.File(sami_hdf5_path, 'r') as hdf:\n",
        "    # Access the tracings dataset\n",
        "    tracings = hdf['tracings']\n",
        "    \n",
        "    # Process each row in the labels dataframe\n",
        "    for idx, row in sami_labels_df.iterrows():\n",
        "        # Get information from CSV\n",
        "        exam_id = str(row['exam_id'])\n",
        "        chagas_val = row['chagas']\n",
        "        \n",
        "        try:\n",
        "            # Use the index position to access the corresponding tracing\n",
        "            ecg_data = tracings[idx, :, :]\n",
        "            \n",
        "            # Create a record with exam_id and chagas label\n",
        "            record = {\"exam_id\": f\"SAMI_{exam_id}\", \"chagas\": chagas_val, \"source\": \"SAMI\"}\n",
        "            \n",
        "            # Process each lead - converting SAMI lead names to our standard lead_names\n",
        "            for j, sami_lead in enumerate(lead_names):\n",
        "                # # Get the equivalent standard lead name\n",
        "                # standard_lead = lead_names[sami_lead]\n",
        "                \n",
        "                signal = ecg_data[:, j]\n",
        "                \n",
        "                # Find indices of non-zero elements for trimming\n",
        "                nonzero_indices = np.nonzero(signal)[0]\n",
        "                if nonzero_indices.size > 0:\n",
        "                    start = nonzero_indices[0]\n",
        "                    end = nonzero_indices[-1] + 1\n",
        "                    trimmed_signal = signal[start:end]\n",
        "                else:\n",
        "                    trimmed_signal = signal\n",
        "                    \n",
        "                record[sami_lead] = trimmed_signal\n",
        "            \n",
        "            sami_records.append(record)\n",
        "            \n",
        "        except IndexError:\n",
        "            print(f\"Error processing SAMI record at index {idx} with exam_id {exam_id}\")\n",
        "    \n",
        "    print(f\"Processed {len(sami_records)} records from SAMI dataset\")\n",
        "\n",
        "# Create SAMI DataFrame\n",
        "sami_df = pd.DataFrame(sami_records)\n",
        "\n",
        "# ----- COMBINE DATASETS -----\n",
        "print(\"\\nCombining datasets...\")\n",
        "\n",
        "# Ensure both dataframes have the same columns using our standard lead_names\n",
        "df = pd.concat([code15_df, sami_df], ignore_index=True)\n",
        "\n",
        "# Standardize each ECG signal array for each lead\n",
        "for lead in lead_names:\n",
        "    df[lead] = df[lead].apply(lambda signal: standardize_wave(signal))  \n",
        "\n",
        "print(df.shape)"
      ]
    },
    {
      "cell_type": "markdown",
      "metadata": {
        "id": "uOGVrDhnHc2p"
      },
      "source": [
        "average and standard deviations of both qrs distance approximation (i tried using neurokit2's ecg delineate to get it but it wasn't working as was really slow) and peak-to-peak distance"
      ]
    },
    {
      "cell_type": "code",
      "execution_count": 6,
      "metadata": {
        "id": "X_BxN_QH2VIq"
      },
      "outputs": [],
      "source": [
        "def average_qrs_distance(ecg, relative_height=0.3):\n",
        "    ecg = np.asarray(ecg)\n",
        "\n",
        "    # Find peaks. You can customize the parameters (like prominence or height) if needed.\n",
        "    peaks, _ = find_peaks(ecg, height=2)\n",
        "\n",
        "    if len(peaks) == 0:\n",
        "        return np.nan\n",
        "\n",
        "    # Compute widths of the detected peaks at the specified relative height.\n",
        "    widths_results = peak_widths(ecg, peaks, rel_height=relative_height)\n",
        "    widths = widths_results[0]  # the first element contains the widths\n",
        "\n",
        "    return np.mean(widths)\n",
        "\n",
        "def std_qrs_distance(ecg, relative_height=0.3):\n",
        "    ecg = np.asarray(ecg)\n",
        "\n",
        "    # Find peaks. You can customize the parameters (like prominence or height) if needed.\n",
        "    peaks, _ = find_peaks(ecg, height=2)\n",
        "\n",
        "    if len(peaks) == 0:\n",
        "        return np.nan\n",
        "\n",
        "    # Compute widths of the detected peaks at the specified relative height.\n",
        "    widths_results = peak_widths(ecg, peaks, rel_height=relative_height)\n",
        "    widths = widths_results[0]  # the first element contains the widths\n",
        "\n",
        "    return np.std(widths)\n",
        "\n",
        "def avg_peak_to_peak(signal, height=2, distance=40):\n",
        "    # Detect peaks using the specified parameters.\n",
        "    peak_indices, _ = find_peaks(signal, height=height, distance=distance)\n",
        "\n",
        "    # If fewer than two peaks are found, return NaN.\n",
        "    if len(peak_indices) < 2:\n",
        "        return np.nan\n",
        "\n",
        "    # Calculate the distances between successive peaks.\n",
        "    peak_to_peak_distances = np.diff(peak_indices)\n",
        "\n",
        "    # Return the average of these distances.\n",
        "    return np.mean(peak_to_peak_distances)\n",
        "\n",
        "def std_peak_to_peak(signal, height=2, distance=40):\n",
        "    # Detect peaks using the specified parameters.\n",
        "    peak_indices, _ = find_peaks(signal, height=height, distance=distance)\n",
        "\n",
        "    # If fewer than two peaks are found, return NaN.\n",
        "    if len(peak_indices) < 2:\n",
        "        return np.nan\n",
        "\n",
        "    # Calculate the distances between successive peaks.\n",
        "    peak_to_peak_distances = np.diff(peak_indices)\n",
        "\n",
        "    # Return the average of these distances.\n",
        "    return np.std(peak_to_peak_distances)"
      ]
    },
    {
      "cell_type": "markdown",
      "metadata": {
        "id": "Of-lsgIUHloi"
      },
      "source": [
        "these next few are all in separate cells so you can add a new feature without rerunning everything"
      ]
    },
    {
      "cell_type": "markdown",
      "metadata": {
        "id": "jxLDiOUpHr_e"
      },
      "source": [
        "avg qrs"
      ]
    },
    {
      "cell_type": "code",
      "execution_count": 7,
      "metadata": {
        "id": "iL7WYylb2Z-K"
      },
      "outputs": [],
      "source": [
        "for lead in lead_names:\n",
        "    df[f\"avg_qrs_{lead}\"] = df[lead].apply(lambda wave: average_qrs_distance(wave))"
      ]
    },
    {
      "cell_type": "markdown",
      "metadata": {
        "id": "zOfzihS5HvJ4"
      },
      "source": [
        "std qrs"
      ]
    },
    {
      "cell_type": "code",
      "execution_count": 8,
      "metadata": {
        "id": "IAaVsJxDGeL1"
      },
      "outputs": [],
      "source": [
        "for lead in lead_names:\n",
        "    df[f\"std_qrs_{lead}\"] = df[lead].apply(lambda wave: std_qrs_distance(wave))"
      ]
    },
    {
      "cell_type": "markdown",
      "metadata": {
        "id": "q6DyjAc0HwAx"
      },
      "source": [
        "avg p2p"
      ]
    },
    {
      "cell_type": "code",
      "execution_count": 9,
      "metadata": {
        "id": "Mha4B-SE8D2d"
      },
      "outputs": [],
      "source": [
        "for lead in lead_names:\n",
        "    df[f\"avg_p2p_{lead}\"] = df[lead].apply(lambda signal: avg_peak_to_peak(signal))"
      ]
    },
    {
      "cell_type": "markdown",
      "metadata": {
        "id": "Uc-rM2eBHwuX"
      },
      "source": [
        "std p2p"
      ]
    },
    {
      "cell_type": "code",
      "execution_count": 10,
      "metadata": {
        "id": "bbhKbVRvGa0b"
      },
      "outputs": [],
      "source": [
        "for lead in lead_names:\n",
        "    df[f\"std_p2p_{lead}\"] = df[lead].apply(lambda signal: std_peak_to_peak(signal))"
      ]
    },
    {
      "cell_type": "markdown",
      "metadata": {
        "id": "5MhxN4H1Hxe4"
      },
      "source": [
        "min value"
      ]
    },
    {
      "cell_type": "code",
      "execution_count": 11,
      "metadata": {
        "id": "r92ku5TS8F2a"
      },
      "outputs": [],
      "source": [
        "for lead in lead_names:\n",
        "    df[f'min_{lead}'] = df[lead].apply(lambda signal: np.min(signal) if len(signal) > 0 else np.nan)"
      ]
    },
    {
      "cell_type": "markdown",
      "metadata": {
        "id": "4gYqqrlrHykT"
      },
      "source": [
        "std of signal"
      ]
    },
    {
      "cell_type": "code",
      "execution_count": 12,
      "metadata": {
        "id": "WhjBQYHPDcJO"
      },
      "outputs": [],
      "source": [
        "for lead in lead_names:\n",
        "    df[f'std_{lead}'] = df[lead].apply(lambda signal: np.std(signal) if len(signal) > 0 else np.nan)"
      ]
    },
    {
      "cell_type": "markdown",
      "metadata": {
        "id": "YdJ4Jq_FHz23"
      },
      "source": [
        "max value"
      ]
    },
    {
      "cell_type": "code",
      "execution_count": 13,
      "metadata": {
        "id": "cLD68KdTEs9C"
      },
      "outputs": [],
      "source": [
        "for lead in lead_names:\n",
        "    df[f'max_{lead}'] = df[lead].apply(lambda signal: np.max(signal) if len(signal) > 0 else np.nan)"
      ]
    },
    {
      "cell_type": "markdown",
      "metadata": {
        "id": "pB0J8ysxH0vx"
      },
      "source": [
        "drops the waveform data, exam_id, and NaN"
      ]
    },
    {
      "cell_type": "code",
      "execution_count": 14,
      "metadata": {
        "id": "iH9EOtws9apY"
      },
      "outputs": [],
      "source": [
        "df2 = df.drop(columns=lead_names + [\"exam_id\"])\n",
        "df2 = df2.dropna() "
      ]
    },
    {
      "cell_type": "markdown",
      "metadata": {
        "id": "UXWUng6ZH4ZK"
      },
      "source": [
        "test train split 80/20"
      ]
    },
    {
      "cell_type": "code",
      "execution_count": 15,
      "metadata": {
        "id": "PVqnSgrk8_qq"
      },
      "outputs": [
        {
          "name": "stdout",
          "output_type": "stream",
          "text": [
            "(60656, 99)\n",
            "(60656, 99)\n",
            "(46855, 84)\n",
            "(11714, 84)\n",
            "(46855,)\n",
            "(11714,)\n"
          ]
        }
      ],
      "source": [
        "print(df.shape)  \n",
        "\n",
        "X_train, X_test, y_train, y_test = train_test_split(df2.drop(['chagas', 'source'], axis=1), df2['chagas'], test_size=0.2, random_state=1989)\n",
        "#X_train, X_test, y_train, y_test = train_test_split(df2.drop('chagas', axis=1), df2['chagas'], test_size=0.2, random_state=1989)\n",
        "\n",
        "print(df.shape)  \n",
        "print(X_train.shape)  \n",
        "print(X_test.shape)  \n",
        "print(y_train.shape)  \n",
        "print(y_test.shape)  "
      ]
    },
    {
      "cell_type": "markdown",
      "metadata": {
        "id": "IGfS1a_EH59r"
      },
      "source": [
        "john standard"
      ]
    },
    {
      "cell_type": "code",
      "execution_count": 16,
      "metadata": {
        "id": "RHp9D6s-8pmU"
      },
      "outputs": [],
      "source": [
        "# let's standardize the data\n",
        "scaler = StandardScaler()\n",
        "\n",
        "# fit the scaler to the training data\n",
        "scaler.fit(X_train)\n",
        "# transform the training data and put it into a new dataframe\n",
        "X_train_scaled = scaler.transform(X_train)\n",
        "X_train_scaled = pd.DataFrame(X_train_scaled, columns=X_train.columns)\n",
        "\n",
        "# transform the testing data and put it into a new dataframe\n",
        "# notice -- we do not fit on the test data\n",
        "X_test_scaled = scaler.transform(X_test)\n",
        "X_test_scaled = pd.DataFrame(X_test_scaled, columns=X_test.columns)"
      ]
    },
    {
      "cell_type": "markdown",
      "metadata": {
        "id": "ud-ZCyAIH7Ad"
      },
      "source": [
        "to try and help handle class imbalance"
      ]
    },
    {
      "cell_type": "code",
      "execution_count": 17,
      "metadata": {
        "id": "FIkaVtA4957G"
      },
      "outputs": [],
      "source": [
        "smote = SMOTE(random_state=1989)\n",
        "X_resampled, y_resampled = smote.fit_resample(X_train_scaled, y_train)"
      ]
    },
    {
      "cell_type": "markdown",
      "metadata": {
        "id": "bSnWG6_MH875"
      },
      "source": [
        "balanced random forest classifier also attempts to deal with class imbalance"
      ]
    },
    {
      "cell_type": "code",
      "execution_count": 23,
      "metadata": {
        "colab": {
          "base_uri": "https://localhost:8080/",
          "height": 80
        },
        "id": "UpY9jQ1A-AmX",
        "outputId": "1b55ecb3-8e97-46fe-bd70-0a3e9502fa4c"
      },
      "outputs": [],
      "source": [
        "# model_rf = BalancedRandomForestClassifier(n_estimators=100, random_state=1989, criterion = 'gini', max_depth = 30, bootstrap = True)\n",
        "# model_rf.fit(X_train_scaled, y_train)\n",
        "\n",
        "model = BalancedRandomForestClassifier()\n",
        "\n",
        "# Specify hyperparameters and their possible values\n",
        "param_grid = {\n",
        "    'n_estimators': [100, 200, 300],\n",
        "    'max_depth': [None, 10, 20],\n",
        "    'min_samples_split': [2, 5, 10]\n",
        "}\n",
        "\n",
        "# Initialize GridSearchCV\n",
        "grid_search = GridSearchCV(estimator=model, param_grid=param_grid, cv=5, scoring='precision')\n",
        "\n",
        "# Fit to the data\n",
        "grid_search.fit(X_train_scaled, y_train)\n",
        "\n",
        "# Best hyperparameters\n",
        "model_rf = grid_search.best_estimator_"
      ]
    },
    {
      "cell_type": "markdown",
      "metadata": {},
      "source": [
        "the optimal parameters in question"
      ]
    },
    {
      "cell_type": "code",
      "execution_count": 24,
      "metadata": {},
      "outputs": [
        {
          "name": "stdout",
          "output_type": "stream",
          "text": [
            "Best parameters: {'max_depth': 20, 'min_samples_split': 2, 'n_estimators': 300}\n"
          ]
        }
      ],
      "source": [
        "print(f'Best parameters: {grid_search.best_params_}')"
      ]
    },
    {
      "cell_type": "code",
      "execution_count": 25,
      "metadata": {},
      "outputs": [],
      "source": [
        "feature_names = [col for col in df2.columns if col != 'chagas']"
      ]
    },
    {
      "cell_type": "code",
      "execution_count": 26,
      "metadata": {},
      "outputs": [
        {
          "data": {
            "image/png": "[encoded data removed]",
            "text/plain": [
              "<Figure size 1000x600 with 1 Axes>"
            ]
          },
          "metadata": {},
          "output_type": "display_data"
        }
      ],
      "source": [
        "importances = model_rf.feature_importances_\n",
        "\n",
        "# Sort the feature importances in descending order and select the top 10\n",
        "indices = np.argsort(importances)[::-1][:10]\n",
        "\n",
        "# Plotting\n",
        "plt.figure(figsize=(10, 6))\n",
        "plt.title(\"Top 10 Feature Importances\")\n",
        "plt.bar(range(10), importances[indices], align=\"center\")\n",
        "plt.xticks(range(10), [feature_names[i] for i in indices], rotation=90)\n",
        "plt.tight_layout()\n",
        "plt.show()"
      ]
    },
    {
      "cell_type": "markdown",
      "metadata": {
        "id": "GSfo-rkRIAED"
      },
      "source": [
        "checks that jawn"
      ]
    },
    {
      "cell_type": "code",
      "execution_count": 27,
      "metadata": {
        "colab": {
          "base_uri": "https://localhost:8080/",
          "height": 472
        },
        "id": "DECLxSHi-bzo",
        "outputId": "f24ae903-90f5-4f38-985f-80a3a2ab6dae"
      },
      "outputs": [
        {
          "data": {
            "image/png": "[encoded data removed]",
            "text/plain": [
              "<Figure size 640x480 with 2 Axes>"
            ]
          },
          "metadata": {},
          "output_type": "display_data"
        }
      ],
      "source": [
        "predictions = model_rf.predict(X_test_scaled)\n",
        "cm = confusion_matrix(y_test, predictions)\n",
        "disp = ConfusionMatrixDisplay(cm, display_labels=[f'Chagas {i}' for i in range(2)])\n",
        "disp.plot(cmap='Blues')\n",
        "plt.title('Confusion Matrix For Chagas Using Random Forest')\n",
        "plt.show()"
      ]
    },
    {
      "cell_type": "code",
      "execution_count": 28,
      "metadata": {},
      "outputs": [
        {
          "data": {
            "image/png": "[encoded data removed]",
            "text/plain": [
              "<Figure size 640x480 with 1 Axes>"
            ]
          },
          "metadata": {},
          "output_type": "display_data"
        }
      ],
      "source": [
        "# let's plot the roc curve for each class\n",
        "# we need to get the probabilities for each class\n",
        "probs = model_rf.predict_proba(X_test_scaled)\n",
        "fpr = dict()\n",
        "tpr = dict()\n",
        "roc_auc = {0:0, 1:0}\n",
        "for i in range(2):\n",
        "    fpr[i], tpr[i], _ = roc_curve(y_test, probs[:, i], pos_label=i)\n",
        "    # roc_auc expects binary values, so we need to convert the target to binary\n",
        "    # we're using one vs. all, so we'll convert the target to 1 for the class we're interested in and 0 for the other classes\n",
        "    y_test_i = np.array(y_test == i).astype(int)\n",
        "    roc_auc[i] = roc_auc_score(y_test_i, probs[:, i])\n",
        "    plt.plot(fpr[i], tpr[i], label=f'Chagas {i} (AUC = {roc_auc[i]:.2f})')\n",
        "plt.plot([0, 1], [0, 1], color='black', linestyle='--')\n",
        "plt.xlabel('False Positive Rate')\n",
        "plt.ylabel('True Positive Rate')\n",
        "plt.title('ROC Curve For Iris Data Using Best Model')\n",
        "plt.legend()\n",
        "plt.show()"
      ]
    },
    {
      "cell_type": "code",
      "execution_count": null,
      "metadata": {},
      "outputs": [],
      "source": [
        "report = classification_report(y_test, y_pred_adjusted)\n",
        "print(\"\\nClassification Report:\")\n",
        "print(report)"
      ]
    },
    {
      "cell_type": "code",
      "execution_count": 21,
      "metadata": {},
      "outputs": [
        {
          "name": "stdout",
          "output_type": "stream",
          "text": [
            "Index(['exam_id', 'chagas', 'source', 'DI', 'DII', 'DIII', 'AVR', 'AVL', 'AVF',\n",
            "       'V1', 'V2', 'V3', 'V4', 'V5', 'V6', 'avg_qrs_DI', 'avg_qrs_DII',\n",
            "       'avg_qrs_DIII', 'avg_qrs_AVR', 'avg_qrs_AVL', 'avg_qrs_AVF',\n",
            "       'avg_qrs_V1', 'avg_qrs_V2', 'avg_qrs_V3', 'avg_qrs_V4', 'avg_qrs_V5',\n",
            "       'avg_qrs_V6', 'std_qrs_DI', 'std_qrs_DII', 'std_qrs_DIII',\n",
            "       'std_qrs_AVR', 'std_qrs_AVL', 'std_qrs_AVF', 'std_qrs_V1', 'std_qrs_V2',\n",
            "       'std_qrs_V3', 'std_qrs_V4', 'std_qrs_V5', 'std_qrs_V6', 'avg_p2p_DI',\n",
            "       'avg_p2p_DII', 'avg_p2p_DIII', 'avg_p2p_AVR', 'avg_p2p_AVL',\n",
            "       'avg_p2p_AVF', 'avg_p2p_V1', 'avg_p2p_V2', 'avg_p2p_V3', 'avg_p2p_V4',\n",
            "       'avg_p2p_V5', 'avg_p2p_V6', 'std_p2p_DI', 'std_p2p_DII', 'std_p2p_DIII',\n",
            "       'std_p2p_AVR', 'std_p2p_AVL', 'std_p2p_AVF', 'std_p2p_V1', 'std_p2p_V2',\n",
            "       'std_p2p_V3', 'std_p2p_V4', 'std_p2p_V5', 'std_p2p_V6', 'min_DI',\n",
            "       'min_DII', 'min_DIII', 'min_AVR', 'min_AVL', 'min_AVF', 'min_V1',\n",
            "       'min_V2', 'min_V3', 'min_V4', 'min_V5', 'min_V6', 'std_DI', 'std_DII',\n",
            "       'std_DIII', 'std_AVR', 'std_AVL', 'std_AVF', 'std_V1', 'std_V2',\n",
            "       'std_V3', 'std_V4', 'std_V5', 'std_V6', 'max_DI', 'max_DII', 'max_DIII',\n",
            "       'max_AVR', 'max_AVL', 'max_AVF', 'max_V1', 'max_V2', 'max_V3', 'max_V4',\n",
            "       'max_V5', 'max_V6'],\n",
            "      dtype='object')\n",
            "2031\n",
            "58625\n"
          ]
        }
      ],
      "source": [
        "print(df.columns)\n",
        "print(df['chagas'].sum()) \n",
        "print((df['chagas'] == False).sum())  \n"
      ]
    }
  ],
  "metadata": {
    "colab": {
      "provenance": []
    },
    "kernelspec": {
      "display_name": "Python 3",
      "name": "python3"
    },
    "language_info": {
      "codemirror_mode": {
        "name": "ipython",
        "version": 3
      },
      "file_extension": ".py",
      "mimetype": "text/x-python",
      "name": "python",
      "nbconvert_exporter": "python",
      "pygments_lexer": "ipython3",
      "version": "3.11.2"
    }
  },
  "nbformat": 4,
  "nbformat_minor": 0
}
